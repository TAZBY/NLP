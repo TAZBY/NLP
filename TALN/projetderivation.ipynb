{
 "cells": [
  {
   "cell_type": "code",
   "execution_count": 4,
   "metadata": {},
   "outputs": [
    {
     "name": "stdout",
     "output_type": "stream",
     "text": [
      "Veuillez entrer un mot svp:finir\n",
      "Le mot que vous avez entré est : un Verbe\n",
      "finir -> finaliser\n",
      "finir -> finalisation\n",
      "finir -> finissant\n",
      "finir -> finit\n",
      "finir -> finis\n",
      "finir -> fini\n",
      "finir -> finissage\n"
     ]
    }
   ],
   "source": [
    "import nltk\n",
    "from nltk.tokenize import sent_tokenize, word_tokenize\n",
    "from nltk.tag.stanford import StanfordPOSTagger\n",
    "root_path=\"nltkTools/\"\n",
    "pos_tagg = StanfordPOSTagger(root_path + \"french.tagger\", root_path + \"stanford-postagger.jar\",encoding='utf8') #instance de la classe StanfordPOSTagger en UTF-8\n",
    "\n",
    "\n",
    "file = open(\"regles.txt\")\n",
    "lines = file.readlines()\n",
    "\n",
    "file.close()\n",
    "\n",
    "mot=str(input(\"Veuillez entrer un mot svp:\"))\n",
    "\n",
    "motokenizze = word_tokenize(mot)\n",
    "mottagg = pos_tagg.tag(motokenizze)\n",
    "\n",
    "#print(mottagg)\n",
    "tag=\"\"\n",
    "\n",
    "for va in mottagg:\n",
    "    tag=va[1]\n",
    "\n",
    "#Pour les verbes\n",
    "suffixe = mot[-2]+mot[-1]\n",
    "nvlt = \"\"\n",
    "typemot = \"\"\n",
    "if(tag == 'V' or tag == 'VINF'):\n",
    "    typemot = \"un Verbe\"\n",
    "if(tag =='NC'):\n",
    "    typemot = \"un Nom Commun\"\n",
    "if(tag =='ADJ'):\n",
    "    typemot = \"un Adjectif\"\n",
    "if(tag =='DET'):\n",
    "    typemot = \"un Déterminant\"\n",
    "if(tag =='P'):\n",
    "    typemot = \"une Préposition\"\n",
    "\n",
    "print(\"Le mot que vous avez entré est : \"+typemot)\n",
    "\n",
    "prempartie=\"\"\n",
    "chainef = \"\"\n",
    "\n",
    "for line in lines:\n",
    "    line = line.strip()\n",
    "    line = line.replace(\"*\",\"\")\n",
    "    if len(line) != 0:\n",
    "        lin = word_tokenize(line)\n",
    "    \n",
    "        for ligne in lin:\n",
    "            nvlt = ligne\n",
    "        if(tag == 'V' or tag == 'VINF'):\n",
    "            if(len(lin[0])>2):\n",
    "                if(lin[0] in mot):\n",
    "                    mss = mot.replace(lin[0], nvlt)\n",
    "                    print(mot+\" -> \"+mss)\n",
    "                \n",
    "            if(suffixe == lin[0]):\n",
    "                mss = mot.replace(suffixe, nvlt)\n",
    "                print(mot+\" -> \"+mss)\n",
    "        elif(tag == 'ADJ'):\n",
    "            if(lin[0] in mot):\n",
    "                mss = mot.replace(lin[0], nvlt)\n",
    "                print(mot+\" -> \"+mss)\n",
    "        elif(tag == 'NC'):\n",
    "            if(lin[0] in mot):\n",
    "                mss = mot.replace(lin[0], nvlt)\n",
    "                print(mot+\" -> \"+mss)\n",
    "        elif(tag == 'ADV'):\n",
    "            if(lin[0] in mot):\n",
    "                mss = mot.replace(lin[0], nvlt)\n",
    "                print(mot+\" -> \"+mss)\n",
    "        elif(tag == 'DET'):\n",
    "            if(lin[0] in mot):\n",
    "                mss = mot.replace(lin[0], nvlt)\n",
    "                print(mot+\" -> \"+mss)\n",
    "        elif(tag == 'P'):\n",
    "            if(lin[0] in mot):\n",
    "                mss = mot.replace(lin[0], nvlt)\n",
    "                print(mot+\" -> \"+mss)\n",
    "            \n",
    "        \n",
    "\n"
   ]
  },
  {
   "cell_type": "code",
   "execution_count": 3,
   "metadata": {},
   "outputs": [
    {
     "name": "stdout",
     "output_type": "stream",
     "text": [
      "[('Le', 'DET'), ('petit', 'ADJ'), ('chat', 'NC'), ('gris', 'ADJ'), ('mange', 'V'), ('sa', 'DET'), ('pâtée', 'NC'), ('dans', 'P'), ('une', 'DET'), ('assiette', 'NC'), ('rouge', 'ADJ'), ('.', 'PUNC')]\n"
     ]
    }
   ],
   "source": [
    "import nltk\n",
    "from nltk.tokenize import sent_tokenize, word_tokenize\n",
    "from nltk.tag.stanford import StanfordPOSTagger\n",
    "root_path=\"nltkTools/\"\n",
    "pos_tagg = StanfordPOSTagger(root_path + \"french.tagger\", root_path + \"stanford-postagger.jar\",encoding='utf8') #instance de la classe StanfordPOSTagger en UTF-8\n",
    "\n",
    "\n",
    "mot= \"Le petit chat gris mange sa pâtée dans une assiette rouge.\"\n",
    "\n",
    "motokenizze = word_tokenize(mot)\n",
    "mottagg = pos_tagg.tag(motokenizze)\n",
    "\n",
    "print(mottagg)"
   ]
  },
  {
   "cell_type": "code",
   "execution_count": null,
   "metadata": {
    "collapsed": true
   },
   "outputs": [],
   "source": [
    "Le petit chat gris mange sa pâtée dans une assiette rouge."
   ]
  }
 ],
 "metadata": {
  "kernelspec": {
   "display_name": "Python 3",
   "language": "python",
   "name": "python3"
  },
  "language_info": {
   "codemirror_mode": {
    "name": "ipython",
    "version": 3
   },
   "file_extension": ".py",
   "mimetype": "text/x-python",
   "name": "python",
   "nbconvert_exporter": "python",
   "pygments_lexer": "ipython3",
   "version": "3.6.3"
  }
 },
 "nbformat": 4,
 "nbformat_minor": 2
}
